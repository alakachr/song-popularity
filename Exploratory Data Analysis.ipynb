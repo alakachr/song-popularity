{
 "cells": [
  {
   "cell_type": "code",
   "execution_count": 4,
   "id": "92d60b26",
   "metadata": {},
   "outputs": [],
   "source": [
    "import pandas as pd\n",
    "import numpy as np\n",
    "import seaborn as sns\n",
    "import matplotlib.pyplot as plt\n"
   ]
  },
  {
   "cell_type": "code",
   "execution_count": 6,
   "id": "1c88570d",
   "metadata": {},
   "outputs": [],
   "source": [
    "train=pd.read_csv(\"train.csv\")"
   ]
  },
  {
   "cell_type": "code",
   "execution_count": 7,
   "id": "c43b00e3",
   "metadata": {},
   "outputs": [
    {
     "data": {
      "text/plain": [
       "(40000, 15)"
      ]
     },
     "execution_count": 7,
     "metadata": {},
     "output_type": "execute_result"
    }
   ],
   "source": [
    "train.shape"
   ]
  },
  {
   "cell_type": "code",
   "execution_count": 8,
   "id": "a3d89e02",
   "metadata": {},
   "outputs": [
    {
     "data": {
      "text/html": [
       "<div>\n",
       "<style scoped>\n",
       "    .dataframe tbody tr th:only-of-type {\n",
       "        vertical-align: middle;\n",
       "    }\n",
       "\n",
       "    .dataframe tbody tr th {\n",
       "        vertical-align: top;\n",
       "    }\n",
       "\n",
       "    .dataframe thead th {\n",
       "        text-align: right;\n",
       "    }\n",
       "</style>\n",
       "<table border=\"1\" class=\"dataframe\">\n",
       "  <thead>\n",
       "    <tr style=\"text-align: right;\">\n",
       "      <th></th>\n",
       "      <th>id</th>\n",
       "      <th>song_duration_ms</th>\n",
       "      <th>acousticness</th>\n",
       "      <th>danceability</th>\n",
       "      <th>energy</th>\n",
       "      <th>instrumentalness</th>\n",
       "      <th>key</th>\n",
       "      <th>liveness</th>\n",
       "      <th>loudness</th>\n",
       "      <th>audio_mode</th>\n",
       "      <th>speechiness</th>\n",
       "      <th>tempo</th>\n",
       "      <th>time_signature</th>\n",
       "      <th>audio_valence</th>\n",
       "      <th>song_popularity</th>\n",
       "    </tr>\n",
       "  </thead>\n",
       "  <tbody>\n",
       "    <tr>\n",
       "      <th>8198</th>\n",
       "      <td>8198</td>\n",
       "      <td>182823.0</td>\n",
       "      <td>0.129767</td>\n",
       "      <td>0.552229</td>\n",
       "      <td>0.408603</td>\n",
       "      <td>0.001827</td>\n",
       "      <td>8.0</td>\n",
       "      <td>0.121666</td>\n",
       "      <td>-10.089854</td>\n",
       "      <td>0</td>\n",
       "      <td>0.053136</td>\n",
       "      <td>72.827448</td>\n",
       "      <td>3</td>\n",
       "      <td>0.376511</td>\n",
       "      <td>1</td>\n",
       "    </tr>\n",
       "    <tr>\n",
       "      <th>19696</th>\n",
       "      <td>19696</td>\n",
       "      <td>NaN</td>\n",
       "      <td>0.807487</td>\n",
       "      <td>0.454245</td>\n",
       "      <td>0.610185</td>\n",
       "      <td>0.003569</td>\n",
       "      <td>2.0</td>\n",
       "      <td>0.131556</td>\n",
       "      <td>-10.409419</td>\n",
       "      <td>1</td>\n",
       "      <td>0.020975</td>\n",
       "      <td>146.670708</td>\n",
       "      <td>4</td>\n",
       "      <td>0.776706</td>\n",
       "      <td>1</td>\n",
       "    </tr>\n",
       "    <tr>\n",
       "      <th>16108</th>\n",
       "      <td>16108</td>\n",
       "      <td>202093.0</td>\n",
       "      <td>0.527150</td>\n",
       "      <td>0.580347</td>\n",
       "      <td>NaN</td>\n",
       "      <td>0.001458</td>\n",
       "      <td>0.0</td>\n",
       "      <td>0.174014</td>\n",
       "      <td>-7.292848</td>\n",
       "      <td>0</td>\n",
       "      <td>0.034165</td>\n",
       "      <td>100.079649</td>\n",
       "      <td>3</td>\n",
       "      <td>0.960013</td>\n",
       "      <td>1</td>\n",
       "    </tr>\n",
       "    <tr>\n",
       "      <th>23584</th>\n",
       "      <td>23584</td>\n",
       "      <td>157583.0</td>\n",
       "      <td>0.939299</td>\n",
       "      <td>NaN</td>\n",
       "      <td>0.227660</td>\n",
       "      <td>0.005036</td>\n",
       "      <td>2.0</td>\n",
       "      <td>0.121194</td>\n",
       "      <td>-22.149781</td>\n",
       "      <td>0</td>\n",
       "      <td>0.059115</td>\n",
       "      <td>94.379351</td>\n",
       "      <td>3</td>\n",
       "      <td>0.209124</td>\n",
       "      <td>0</td>\n",
       "    </tr>\n",
       "    <tr>\n",
       "      <th>6056</th>\n",
       "      <td>6056</td>\n",
       "      <td>187327.0</td>\n",
       "      <td>0.041109</td>\n",
       "      <td>0.608166</td>\n",
       "      <td>NaN</td>\n",
       "      <td>0.000794</td>\n",
       "      <td>9.0</td>\n",
       "      <td>0.375867</td>\n",
       "      <td>-3.042639</td>\n",
       "      <td>0</td>\n",
       "      <td>0.184129</td>\n",
       "      <td>178.770142</td>\n",
       "      <td>3</td>\n",
       "      <td>0.861490</td>\n",
       "      <td>1</td>\n",
       "    </tr>\n",
       "    <tr>\n",
       "      <th>14168</th>\n",
       "      <td>14168</td>\n",
       "      <td>170251.0</td>\n",
       "      <td>0.012890</td>\n",
       "      <td>0.306953</td>\n",
       "      <td>NaN</td>\n",
       "      <td>0.974540</td>\n",
       "      <td>10.0</td>\n",
       "      <td>0.153533</td>\n",
       "      <td>-23.727370</td>\n",
       "      <td>1</td>\n",
       "      <td>0.045598</td>\n",
       "      <td>97.260060</td>\n",
       "      <td>3</td>\n",
       "      <td>0.433507</td>\n",
       "      <td>1</td>\n",
       "    </tr>\n",
       "  </tbody>\n",
       "</table>\n",
       "</div>"
      ],
      "text/plain": [
       "          id  song_duration_ms  acousticness  danceability    energy  \\\n",
       "8198    8198          182823.0      0.129767      0.552229  0.408603   \n",
       "19696  19696               NaN      0.807487      0.454245  0.610185   \n",
       "16108  16108          202093.0      0.527150      0.580347       NaN   \n",
       "23584  23584          157583.0      0.939299           NaN  0.227660   \n",
       "6056    6056          187327.0      0.041109      0.608166       NaN   \n",
       "14168  14168          170251.0      0.012890      0.306953       NaN   \n",
       "\n",
       "       instrumentalness   key  liveness   loudness  audio_mode  speechiness  \\\n",
       "8198           0.001827   8.0  0.121666 -10.089854           0     0.053136   \n",
       "19696          0.003569   2.0  0.131556 -10.409419           1     0.020975   \n",
       "16108          0.001458   0.0  0.174014  -7.292848           0     0.034165   \n",
       "23584          0.005036   2.0  0.121194 -22.149781           0     0.059115   \n",
       "6056           0.000794   9.0  0.375867  -3.042639           0     0.184129   \n",
       "14168          0.974540  10.0  0.153533 -23.727370           1     0.045598   \n",
       "\n",
       "            tempo  time_signature  audio_valence  song_popularity  \n",
       "8198    72.827448               3       0.376511                1  \n",
       "19696  146.670708               4       0.776706                1  \n",
       "16108  100.079649               3       0.960013                1  \n",
       "23584   94.379351               3       0.209124                0  \n",
       "6056   178.770142               3       0.861490                1  \n",
       "14168   97.260060               3       0.433507                1  "
      ]
     },
     "execution_count": 8,
     "metadata": {},
     "output_type": "execute_result"
    }
   ],
   "source": [
    "train.sample(6)"
   ]
  },
  {
   "cell_type": "code",
   "execution_count": null,
   "id": "75da7d8c",
   "metadata": {},
   "outputs": [],
   "source": [
    "We have 3 categorical variables: key, audio_mode, time_signature. The other features are continuous"
   ]
  },
  {
   "cell_type": "code",
   "execution_count": 9,
   "id": "b1eb4c1a",
   "metadata": {},
   "outputs": [
    {
     "data": {
      "text/plain": [
       "id                     0\n",
       "song_duration_ms    4101\n",
       "acousticness        3992\n",
       "danceability        4026\n",
       "energy              3975\n",
       "instrumentalness    3985\n",
       "key                 4065\n",
       "liveness            4086\n",
       "loudness            3957\n",
       "audio_mode             0\n",
       "speechiness            0\n",
       "tempo                  0\n",
       "time_signature         0\n",
       "audio_valence          0\n",
       "song_popularity        0\n",
       "dtype: int64"
      ]
     },
     "execution_count": 9,
     "metadata": {},
     "output_type": "execute_result"
    }
   ],
   "source": [
    "#Missing Values\n",
    "train.isnull().sum()"
   ]
  },
  {
   "cell_type": "code",
   "execution_count": null,
   "id": "052a664d",
   "metadata": {},
   "outputs": [],
   "source": [
    "There are many missing Values. We are going to have to perform some imputation."
   ]
  },
  {
   "cell_type": "code",
   "execution_count": 10,
   "id": "2241404b",
   "metadata": {},
   "outputs": [
    {
     "data": {
      "text/html": [
       "<div>\n",
       "<style scoped>\n",
       "    .dataframe tbody tr th:only-of-type {\n",
       "        vertical-align: middle;\n",
       "    }\n",
       "\n",
       "    .dataframe tbody tr th {\n",
       "        vertical-align: top;\n",
       "    }\n",
       "\n",
       "    .dataframe thead th {\n",
       "        text-align: right;\n",
       "    }\n",
       "</style>\n",
       "<table border=\"1\" class=\"dataframe\">\n",
       "  <thead>\n",
       "    <tr style=\"text-align: right;\">\n",
       "      <th></th>\n",
       "      <th>id</th>\n",
       "      <th>song_duration_ms</th>\n",
       "      <th>acousticness</th>\n",
       "      <th>danceability</th>\n",
       "      <th>energy</th>\n",
       "      <th>instrumentalness</th>\n",
       "      <th>key</th>\n",
       "      <th>liveness</th>\n",
       "      <th>loudness</th>\n",
       "      <th>audio_mode</th>\n",
       "      <th>speechiness</th>\n",
       "      <th>tempo</th>\n",
       "      <th>time_signature</th>\n",
       "      <th>audio_valence</th>\n",
       "      <th>song_popularity</th>\n",
       "    </tr>\n",
       "  </thead>\n",
       "  <tbody>\n",
       "    <tr>\n",
       "      <th>count</th>\n",
       "      <td>40000.00000</td>\n",
       "      <td>35899.000000</td>\n",
       "      <td>36008.000000</td>\n",
       "      <td>35974.000000</td>\n",
       "      <td>36025.000000</td>\n",
       "      <td>36015.000000</td>\n",
       "      <td>35935.000000</td>\n",
       "      <td>35914.000000</td>\n",
       "      <td>36043.000000</td>\n",
       "      <td>40000.000000</td>\n",
       "      <td>40000.000000</td>\n",
       "      <td>40000.000000</td>\n",
       "      <td>40000.000000</td>\n",
       "      <td>40000.000000</td>\n",
       "      <td>40000.000000</td>\n",
       "    </tr>\n",
       "    <tr>\n",
       "      <th>mean</th>\n",
       "      <td>19999.50000</td>\n",
       "      <td>193165.847572</td>\n",
       "      <td>0.276404</td>\n",
       "      <td>0.570951</td>\n",
       "      <td>0.683932</td>\n",
       "      <td>0.036527</td>\n",
       "      <td>5.042605</td>\n",
       "      <td>0.198514</td>\n",
       "      <td>-7.407596</td>\n",
       "      <td>0.321150</td>\n",
       "      <td>0.094107</td>\n",
       "      <td>116.562815</td>\n",
       "      <td>3.394375</td>\n",
       "      <td>0.580645</td>\n",
       "      <td>0.364400</td>\n",
       "    </tr>\n",
       "    <tr>\n",
       "      <th>std</th>\n",
       "      <td>11547.14972</td>\n",
       "      <td>45822.127679</td>\n",
       "      <td>0.297928</td>\n",
       "      <td>0.190010</td>\n",
       "      <td>0.212662</td>\n",
       "      <td>0.150024</td>\n",
       "      <td>3.372728</td>\n",
       "      <td>0.151670</td>\n",
       "      <td>3.877198</td>\n",
       "      <td>0.466924</td>\n",
       "      <td>0.083591</td>\n",
       "      <td>26.167911</td>\n",
       "      <td>0.524405</td>\n",
       "      <td>0.237351</td>\n",
       "      <td>0.481268</td>\n",
       "    </tr>\n",
       "    <tr>\n",
       "      <th>min</th>\n",
       "      <td>0.00000</td>\n",
       "      <td>25658.000000</td>\n",
       "      <td>-0.013551</td>\n",
       "      <td>0.043961</td>\n",
       "      <td>-0.001682</td>\n",
       "      <td>-0.004398</td>\n",
       "      <td>0.000000</td>\n",
       "      <td>0.027843</td>\n",
       "      <td>-32.117911</td>\n",
       "      <td>0.000000</td>\n",
       "      <td>0.015065</td>\n",
       "      <td>62.055779</td>\n",
       "      <td>2.000000</td>\n",
       "      <td>0.013398</td>\n",
       "      <td>0.000000</td>\n",
       "    </tr>\n",
       "    <tr>\n",
       "      <th>25%</th>\n",
       "      <td>9999.75000</td>\n",
       "      <td>166254.500000</td>\n",
       "      <td>0.039618</td>\n",
       "      <td>0.424760</td>\n",
       "      <td>0.539276</td>\n",
       "      <td>0.000941</td>\n",
       "      <td>2.000000</td>\n",
       "      <td>0.111796</td>\n",
       "      <td>-9.578139</td>\n",
       "      <td>0.000000</td>\n",
       "      <td>0.038500</td>\n",
       "      <td>96.995309</td>\n",
       "      <td>3.000000</td>\n",
       "      <td>0.398669</td>\n",
       "      <td>0.000000</td>\n",
       "    </tr>\n",
       "    <tr>\n",
       "      <th>50%</th>\n",
       "      <td>19999.50000</td>\n",
       "      <td>186660.000000</td>\n",
       "      <td>0.140532</td>\n",
       "      <td>0.608234</td>\n",
       "      <td>0.704453</td>\n",
       "      <td>0.001974</td>\n",
       "      <td>5.000000</td>\n",
       "      <td>0.135945</td>\n",
       "      <td>-6.345413</td>\n",
       "      <td>0.000000</td>\n",
       "      <td>0.055881</td>\n",
       "      <td>113.795959</td>\n",
       "      <td>3.000000</td>\n",
       "      <td>0.598827</td>\n",
       "      <td>0.000000</td>\n",
       "    </tr>\n",
       "    <tr>\n",
       "      <th>75%</th>\n",
       "      <td>29999.25000</td>\n",
       "      <td>215116.000000</td>\n",
       "      <td>0.482499</td>\n",
       "      <td>0.718464</td>\n",
       "      <td>0.870503</td>\n",
       "      <td>0.003225</td>\n",
       "      <td>8.000000</td>\n",
       "      <td>0.212842</td>\n",
       "      <td>-4.620711</td>\n",
       "      <td>1.000000</td>\n",
       "      <td>0.118842</td>\n",
       "      <td>128.517383</td>\n",
       "      <td>4.000000</td>\n",
       "      <td>0.759635</td>\n",
       "      <td>1.000000</td>\n",
       "    </tr>\n",
       "    <tr>\n",
       "      <th>max</th>\n",
       "      <td>39999.00000</td>\n",
       "      <td>491671.000000</td>\n",
       "      <td>1.065284</td>\n",
       "      <td>0.957131</td>\n",
       "      <td>1.039741</td>\n",
       "      <td>1.075415</td>\n",
       "      <td>11.000000</td>\n",
       "      <td>1.065298</td>\n",
       "      <td>-0.877346</td>\n",
       "      <td>1.000000</td>\n",
       "      <td>0.560748</td>\n",
       "      <td>219.163578</td>\n",
       "      <td>5.000000</td>\n",
       "      <td>1.022558</td>\n",
       "      <td>1.000000</td>\n",
       "    </tr>\n",
       "  </tbody>\n",
       "</table>\n",
       "</div>"
      ],
      "text/plain": [
       "                id  song_duration_ms  acousticness  danceability  \\\n",
       "count  40000.00000      35899.000000  36008.000000  35974.000000   \n",
       "mean   19999.50000     193165.847572      0.276404      0.570951   \n",
       "std    11547.14972      45822.127679      0.297928      0.190010   \n",
       "min        0.00000      25658.000000     -0.013551      0.043961   \n",
       "25%     9999.75000     166254.500000      0.039618      0.424760   \n",
       "50%    19999.50000     186660.000000      0.140532      0.608234   \n",
       "75%    29999.25000     215116.000000      0.482499      0.718464   \n",
       "max    39999.00000     491671.000000      1.065284      0.957131   \n",
       "\n",
       "             energy  instrumentalness           key      liveness  \\\n",
       "count  36025.000000      36015.000000  35935.000000  35914.000000   \n",
       "mean       0.683932          0.036527      5.042605      0.198514   \n",
       "std        0.212662          0.150024      3.372728      0.151670   \n",
       "min       -0.001682         -0.004398      0.000000      0.027843   \n",
       "25%        0.539276          0.000941      2.000000      0.111796   \n",
       "50%        0.704453          0.001974      5.000000      0.135945   \n",
       "75%        0.870503          0.003225      8.000000      0.212842   \n",
       "max        1.039741          1.075415     11.000000      1.065298   \n",
       "\n",
       "           loudness    audio_mode   speechiness         tempo  time_signature  \\\n",
       "count  36043.000000  40000.000000  40000.000000  40000.000000    40000.000000   \n",
       "mean      -7.407596      0.321150      0.094107    116.562815        3.394375   \n",
       "std        3.877198      0.466924      0.083591     26.167911        0.524405   \n",
       "min      -32.117911      0.000000      0.015065     62.055779        2.000000   \n",
       "25%       -9.578139      0.000000      0.038500     96.995309        3.000000   \n",
       "50%       -6.345413      0.000000      0.055881    113.795959        3.000000   \n",
       "75%       -4.620711      1.000000      0.118842    128.517383        4.000000   \n",
       "max       -0.877346      1.000000      0.560748    219.163578        5.000000   \n",
       "\n",
       "       audio_valence  song_popularity  \n",
       "count   40000.000000     40000.000000  \n",
       "mean        0.580645         0.364400  \n",
       "std         0.237351         0.481268  \n",
       "min         0.013398         0.000000  \n",
       "25%         0.398669         0.000000  \n",
       "50%         0.598827         0.000000  \n",
       "75%         0.759635         1.000000  \n",
       "max         1.022558         1.000000  "
      ]
     },
     "execution_count": 10,
     "metadata": {},
     "output_type": "execute_result"
    }
   ],
   "source": [
    "#Descriptive Statistics\n",
    "train.describe()"
   ]
  },
  {
   "cell_type": "code",
   "execution_count": 11,
   "id": "39d4cf91",
   "metadata": {},
   "outputs": [
    {
     "data": {
      "text/plain": [
       "0"
      ]
     },
     "execution_count": 11,
     "metadata": {},
     "output_type": "execute_result"
    }
   ],
   "source": [
    "#Are there duplicate values ?\n",
    "train.duplicated().sum()\n",
    "\n"
   ]
  },
  {
   "cell_type": "code",
   "execution_count": null,
   "id": "959bbac3",
   "metadata": {},
   "outputs": [],
   "source": [
    "train.corr()[\"song_popularity\"]\n",
    "\n"
   ]
  },
  {
   "cell_type": "code",
   "execution_count": 12,
   "id": "a355aa98",
   "metadata": {},
   "outputs": [
    {
     "name": "stderr",
     "output_type": "stream",
     "text": [
      "/home/christian/miniconda3/envs/tensorflow/lib/python3.9/site-packages/seaborn/_decorators.py:36: FutureWarning: Pass the following variable as a keyword arg: x. From version 0.12, the only valid positional argument will be `data`, and passing other arguments without an explicit keyword will result in an error or misinterpretation.\n",
      "  warnings.warn(\n"
     ]
    },
    {
     "data": {
      "text/plain": [
       "<AxesSubplot:xlabel='key', ylabel='count'>"
      ]
     },
     "execution_count": 12,
     "metadata": {},
     "output_type": "execute_result"
    },
    {
     "data": {
      "image/png": "[encoded data removed]",
      "text/plain": [
       "<Figure size 432x288 with 1 Axes>"
      ]
     },
     "metadata": {
      "needs_background": "light"
     },
     "output_type": "display_data"
    }
   ],
   "source": [
    "sns.countplot(train[\"key\"])\n",
    "\n"
   ]
  },
  {
   "cell_type": "code",
   "execution_count": 13,
   "id": "7fa0da7c",
   "metadata": {},
   "outputs": [
    {
     "name": "stderr",
     "output_type": "stream",
     "text": [
      "/home/christian/miniconda3/envs/tensorflow/lib/python3.9/site-packages/seaborn/_decorators.py:36: FutureWarning: Pass the following variable as a keyword arg: x. From version 0.12, the only valid positional argument will be `data`, and passing other arguments without an explicit keyword will result in an error or misinterpretation.\n",
      "  warnings.warn(\n"
     ]
    },
    {
     "data": {
      "text/plain": [
       "<AxesSubplot:xlabel='audio_mode', ylabel='count'>"
      ]
     },
     "execution_count": 13,
     "metadata": {},
     "output_type": "execute_result"
    },
    {
     "data": {
      "image/png": "[encoded data removed]",
      "text/plain": [
       "<Figure size 432x288 with 1 Axes>"
      ]
     },
     "metadata": {
      "needs_background": "light"
     },
     "output_type": "display_data"
    }
   ],
   "source": [
    "sns.countplot(train[\"audio_mode\"])"
   ]
  },
  {
   "cell_type": "code",
   "execution_count": 14,
   "id": "602aebed",
   "metadata": {},
   "outputs": [
    {
     "name": "stderr",
     "output_type": "stream",
     "text": [
      "/home/christian/miniconda3/envs/tensorflow/lib/python3.9/site-packages/seaborn/_decorators.py:36: FutureWarning: Pass the following variable as a keyword arg: x. From version 0.12, the only valid positional argument will be `data`, and passing other arguments without an explicit keyword will result in an error or misinterpretation.\n",
      "  warnings.warn(\n"
     ]
    },
    {
     "data": {
      "text/plain": [
       "<AxesSubplot:xlabel='time_signature', ylabel='count'>"
      ]
     },
     "execution_count": 14,
     "metadata": {},
     "output_type": "execute_result"
    },
    {
     "data": {
      "image/png": "[encoded data removed]",
      "text/plain": [
       "<Figure size 432x288 with 1 Axes>"
      ]
     },
     "metadata": {
      "needs_background": "light"
     },
     "output_type": "display_data"
    }
   ],
   "source": [
    "sns.countplot(train[\"time_signature\"])"
   ]
  },
  {
   "cell_type": "code",
   "execution_count": null,
   "id": "a6f6dba0",
   "metadata": {},
   "outputs": [],
   "source": []
  }
 ],
 "metadata": {
  "kernelspec": {
   "display_name": "Python 3 (ipykernel)",
   "language": "python",
   "name": "python3"
  },
  "language_info": {
   "codemirror_mode": {
    "name": "ipython",
    "version": 3
   },
   "file_extension": ".py",
   "mimetype": "text/x-python",
   "name": "python",
   "nbconvert_exporter": "python",
   "pygments_lexer": "ipython3",
   "version": "3.9.7"
  }
 },
 "nbformat": 4,
 "nbformat_minor": 5
}
